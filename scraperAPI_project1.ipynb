{
 "cells": [
  {
   "cell_type": "markdown",
   "metadata": {},
   "source": [
    "# Scraping latest news from a SearchTerm in Twitter"
   ]
  },
  {
   "cell_type": "code",
   "execution_count": 31,
   "metadata": {},
   "outputs": [],
   "source": [
    "import requests\n",
    "import pandas as pd\n"
   ]
  },
  {
   "cell_type": "code",
   "execution_count": 32,
   "metadata": {},
   "outputs": [],
   "source": [
    "twitter_data= []\n"
   ]
  },
  {
   "cell_type": "code",
   "execution_count": 33,
   "metadata": {},
   "outputs": [],
   "source": [
    "payload= {\n",
    "    \"api_key\":\"xxxxxxxxxxxxxxxxx\", # enter your scraperAPI key here, i have removed mine\n",
    "    \"query\":\"web3 jobs\",\n",
    "    \"num\":\"10\" #number of tweets to scrape\n",
    "\n",
    "    }\n"
   ]
  },
  {
   "cell_type": "code",
   "execution_count": 34,
   "metadata": {},
   "outputs": [],
   "source": [
    "# create the response\n",
    "response= requests.get(\n",
    "    \"https://api.scraperapi.com/structured/twitter/search\", params=payload\n",
    "\n",
    "    )\n"
   ]
  },
  {
   "cell_type": "code",
   "execution_count": 35,
   "metadata": {},
   "outputs": [
    {
     "name": "stdout",
     "output_type": "stream",
     "text": [
      "{'search_information': {'query_displayed': 'site:twitter.com \"web3 jobs\"'}, 'organic_results': [{'position': 0, 'title': 'Web3 Jobs - Blockchain, Solidity and Crypto Jobs', 'snippet': \"Web3 Jobs - Blockchain, Solidity and Crypto Jobs's posts ; Web3 Blockchain Interoperability Analyst - CODE-VOLUME-PROOF $84k - $194k in Los Angeles at Siddha...\", 'highlighs': ['Web3 Jobs'], 'link': 'https://twitter.com/web3career', 'displayed_link': 'https://twitter.com › ...'}, {'position': 1, 'title': 'Web3 Jobs 💼 (@TopWeb3Jobs) / ...', 'snippet': 'Web3 Jobs. @TopWeb3Jobs. The #1 Web3 Job Board • Remote job opportunities ... Browse thousands of web3 jobs on our website (updated daily 🗓️):\\xa0...', 'highlighs': ['Web3 Jobs', 'web3 jobs'], 'link': 'https://twitter.com/topweb3jobs', 'displayed_link': 'https://twitter.com › topweb3jobs'}, {'position': 2, 'title': 'Web3 Jobs (@myweb3jobs) / X', 'snippet': \"Web3 Jobs's posts ... Senior Backend Engineer – Remote (Global) @ kavalabs Full-Time | Remote #web3 #web3jobs #backend #senior #developer https://myweb3jobs.\", 'highlighs': [\"Web3 Jobs's\"], 'link': 'https://twitter.com/myweb3jobs', 'displayed_link': 'https://twitter.com › myweb3jobs'}, {'position': 3, 'title': 'Stack Talent - Web3 Jobs (@StackTalent ...', 'snippet': \"The Web3 HR solution that's revolutionizing the hiring game | + 2 900 pre-qualified talents in our hub | Find your next Web3 jobs with us.\", 'highlighs': ['Web3 jobs'], 'link': 'https://twitter.com/stacktalent', 'displayed_link': 'https://twitter.com › stacktalent'}, {'position': 4, 'title': 'Web3 Work — Web3 jobs ⚡️ NFT jobs ⚡️ DeFi jobs (@ ...', 'snippet': \"Web3 Work — Web3 jobs ⚡️ NFT jobs ⚡️ DeFi jobs's posts ; @MangroveDAO. is looking for Developer Relations & Pre-sales Engineer · $90,000 - $140,000 USD Learn more\\xa0...\", 'highlighs': ['Web3 jobs'], 'link': 'https://twitter.com/web3_work', 'displayed_link': 'https://twitter.com › web3_work'}, {'position': 5, 'title': 'Blockchain, Crypto & Web3 jobs (@Web3jobsradar) ...', 'snippet': \"Web3 Career - Blockchain, Crypto & Web3 jobs's posts ... Today's top 4,000+ Lead Technician jobs in United Kingdom. Leverage your professional network, and get\\xa0...\", 'highlighs': [\"Web3 jobs's\"], 'link': 'https://twitter.com/web3jobsradar', 'displayed_link': 'https://twitter.com › web3jobsradar'}, {'position': 6, 'title': 'Highlights by Crypto Jobs List — DeFi NFT Web3 ...', 'snippet': \"Crypto Jobs List — DeFi NFT Web3 jobs's Highlights ... The rise of WFH is creating a seismic shift with 90% of the crypto jobs being remote. Let's break down the\\xa0...\", 'highlighs': [\"Web3 jobs's\"], 'link': 'https://twitter.com/CryptoJobsList/highlights', 'displayed_link': 'https://twitter.com › CryptoJobsList › highlights'}, {'position': 7, 'title': 'Crypto Jobs List — DeFi NFT Web3 jobs', 'snippet': \"Crypto Jobs List — DeFi NFT Web3 jobs's posts ; Embedded video. GIF ; Open Blockchain Developer at Cere Network. From cryptojobslist.com · 432 ; Senior Full-Stack\\xa0...\", 'highlighs': [\"Web3 jobs's\"], 'link': 'https://twitter.com/cryptojobslist', 'displayed_link': 'https://twitter.com › cryptojobslist'}, {'position': 8, 'title': 'Web3 Jobs - Blockchain, Solidity and Crypto Jobs', 'snippet': 'Web3 Jobs (San Francisco) Developer Relations Lead Salary: $150k - $200k at Provable Apply https://t.co/jgjnxXnMVE.', 'highlighs': ['Web3 Jobs'], 'link': 'https://twitter.com/Web3Career/status/1800694856743870514', 'displayed_link': 'https://twitter.com › status'}, {'position': 9, 'title': 'Web3 Jobs (@WEB3_JOBot) / X', 'snippet': \"Web3 Jobs's posts. Pinned ... Web3 jobs. Subscribe and receive personalized alerts of hot Web3 vacancies from more than 300 job boards! 8. 1. 8.\", 'highlighs': [\"Web3 Jobs's\", 'Web3 jobs'], 'link': 'https://twitter.com/WEB3_JOBot', 'displayed_link': 'https://twitter.com › WEB3_JOBot'}], 'pagination': {'load_more_url': 'http://api.scraperapi.com/?url=https%3A%2F%2Fwww.google.com%2Fsearch%3Fq%3Dsite%3Atwitter.com%2B%2522web3%2Bjobs%2522%26sca_esv%3D3b6dba99caad62d0%26gl%3DUS%26ei%3DwPBzZvqlFLbep84P76SkmA0%26start%3D10%26sa%3DN&autoparse=true', 'pages_count': 1}}\n"
     ]
    }
   ],
   "source": [
    "# parsing link to the scraperAPI\n",
    "# After getting response, lets store the data in json\n",
    "data= response.json()\n",
    "\n",
    "print(data)\n"
   ]
  },
  {
   "cell_type": "code",
   "execution_count": 36,
   "metadata": {},
   "outputs": [
    {
     "name": "stdout",
     "output_type": "stream",
     "text": [
      "<class 'dict'>\n"
     ]
    }
   ],
   "source": [
    "print(type(data))\n",
    "# we see down here that our data is a dictionary\n"
   ]
  },
  {
   "cell_type": "code",
   "execution_count": 37,
   "metadata": {},
   "outputs": [
    {
     "name": "stdout",
     "output_type": "stream",
     "text": [
      "dict_keys(['search_information', 'organic_results', 'pagination'])\n"
     ]
    }
   ],
   "source": [
    "print(data.keys())\n",
    "# down here we see that we have 4 keys i.e\"'search_information', 'organic_results', 'images', 'pagination'\"\n"
   ]
  },
  {
   "cell_type": "code",
   "execution_count": 38,
   "metadata": {},
   "outputs": [
    {
     "name": "stdout",
     "output_type": "stream",
     "text": [
      "{'query_displayed': 'site:twitter.com \"web3 jobs\"'}\n"
     ]
    }
   ],
   "source": [
    "print(data[\"search_information\"])\n"
   ]
  },
  {
   "cell_type": "code",
   "execution_count": 39,
   "metadata": {},
   "outputs": [
    {
     "name": "stdout",
     "output_type": "stream",
     "text": [
      "[{'position': 0, 'title': 'Web3 Jobs - Blockchain, Solidity and Crypto Jobs', 'snippet': \"Web3 Jobs - Blockchain, Solidity and Crypto Jobs's posts ; Web3 Blockchain Interoperability Analyst - CODE-VOLUME-PROOF $84k - $194k in Los Angeles at Siddha...\", 'highlighs': ['Web3 Jobs'], 'link': 'https://twitter.com/web3career', 'displayed_link': 'https://twitter.com › ...'}, {'position': 1, 'title': 'Web3 Jobs 💼 (@TopWeb3Jobs) / ...', 'snippet': 'Web3 Jobs. @TopWeb3Jobs. The #1 Web3 Job Board • Remote job opportunities ... Browse thousands of web3 jobs on our website (updated daily 🗓️):\\xa0...', 'highlighs': ['Web3 Jobs', 'web3 jobs'], 'link': 'https://twitter.com/topweb3jobs', 'displayed_link': 'https://twitter.com › topweb3jobs'}, {'position': 2, 'title': 'Web3 Jobs (@myweb3jobs) / X', 'snippet': \"Web3 Jobs's posts ... Senior Backend Engineer – Remote (Global) @ kavalabs Full-Time | Remote #web3 #web3jobs #backend #senior #developer https://myweb3jobs.\", 'highlighs': [\"Web3 Jobs's\"], 'link': 'https://twitter.com/myweb3jobs', 'displayed_link': 'https://twitter.com › myweb3jobs'}, {'position': 3, 'title': 'Stack Talent - Web3 Jobs (@StackTalent ...', 'snippet': \"The Web3 HR solution that's revolutionizing the hiring game | + 2 900 pre-qualified talents in our hub | Find your next Web3 jobs with us.\", 'highlighs': ['Web3 jobs'], 'link': 'https://twitter.com/stacktalent', 'displayed_link': 'https://twitter.com › stacktalent'}, {'position': 4, 'title': 'Web3 Work — Web3 jobs ⚡️ NFT jobs ⚡️ DeFi jobs (@ ...', 'snippet': \"Web3 Work — Web3 jobs ⚡️ NFT jobs ⚡️ DeFi jobs's posts ; @MangroveDAO. is looking for Developer Relations & Pre-sales Engineer · $90,000 - $140,000 USD Learn more\\xa0...\", 'highlighs': ['Web3 jobs'], 'link': 'https://twitter.com/web3_work', 'displayed_link': 'https://twitter.com › web3_work'}, {'position': 5, 'title': 'Blockchain, Crypto & Web3 jobs (@Web3jobsradar) ...', 'snippet': \"Web3 Career - Blockchain, Crypto & Web3 jobs's posts ... Today's top 4,000+ Lead Technician jobs in United Kingdom. Leverage your professional network, and get\\xa0...\", 'highlighs': [\"Web3 jobs's\"], 'link': 'https://twitter.com/web3jobsradar', 'displayed_link': 'https://twitter.com › web3jobsradar'}, {'position': 6, 'title': 'Highlights by Crypto Jobs List — DeFi NFT Web3 ...', 'snippet': \"Crypto Jobs List — DeFi NFT Web3 jobs's Highlights ... The rise of WFH is creating a seismic shift with 90% of the crypto jobs being remote. Let's break down the\\xa0...\", 'highlighs': [\"Web3 jobs's\"], 'link': 'https://twitter.com/CryptoJobsList/highlights', 'displayed_link': 'https://twitter.com › CryptoJobsList › highlights'}, {'position': 7, 'title': 'Crypto Jobs List — DeFi NFT Web3 jobs', 'snippet': \"Crypto Jobs List — DeFi NFT Web3 jobs's posts ; Embedded video. GIF ; Open Blockchain Developer at Cere Network. From cryptojobslist.com · 432 ; Senior Full-Stack\\xa0...\", 'highlighs': [\"Web3 jobs's\"], 'link': 'https://twitter.com/cryptojobslist', 'displayed_link': 'https://twitter.com › cryptojobslist'}, {'position': 8, 'title': 'Web3 Jobs - Blockchain, Solidity and Crypto Jobs', 'snippet': 'Web3 Jobs (San Francisco) Developer Relations Lead Salary: $150k - $200k at Provable Apply https://t.co/jgjnxXnMVE.', 'highlighs': ['Web3 Jobs'], 'link': 'https://twitter.com/Web3Career/status/1800694856743870514', 'displayed_link': 'https://twitter.com › status'}, {'position': 9, 'title': 'Web3 Jobs (@WEB3_JOBot) / X', 'snippet': \"Web3 Jobs's posts. Pinned ... Web3 jobs. Subscribe and receive personalized alerts of hot Web3 vacancies from more than 300 job boards! 8. 1. 8.\", 'highlighs': [\"Web3 Jobs's\", 'Web3 jobs'], 'link': 'https://twitter.com/WEB3_JOBot', 'displayed_link': 'https://twitter.com › WEB3_JOBot'}]\n"
     ]
    }
   ],
   "source": [
    "print(data[\"organic_results\"])\n"
   ]
  },
  {
   "cell_type": "code",
   "execution_count": 40,
   "metadata": {},
   "outputs": [
    {
     "name": "stdout",
     "output_type": "stream",
     "text": [
      "{'load_more_url': 'http://api.scraperapi.com/?url=https%3A%2F%2Fwww.google.com%2Fsearch%3Fq%3Dsite%3Atwitter.com%2B%2522web3%2Bjobs%2522%26sca_esv%3D3b6dba99caad62d0%26gl%3DUS%26ei%3DwPBzZvqlFLbep84P76SkmA0%26start%3D10%26sa%3DN&autoparse=true', 'pages_count': 1}\n"
     ]
    }
   ],
   "source": [
    "print(data[\"pagination\"])\n",
    "# dow here we see it giives us additinal metadata of our dataframe\n"
   ]
  },
  {
   "cell_type": "markdown",
   "metadata": {},
   "source": [
    "# from above, the most inportant for us is the organic_results"
   ]
  },
  {
   "cell_type": "code",
   "execution_count": 41,
   "metadata": {},
   "outputs": [
    {
     "name": "stdout",
     "output_type": "stream",
     "text": [
      "<class 'list'>\n"
     ]
    }
   ],
   "source": [
    "# check type of organic_results\n",
    "print(type(data[\"organic_results\"]))\n"
   ]
  },
  {
   "cell_type": "code",
   "execution_count": 42,
   "metadata": {},
   "outputs": [
    {
     "name": "stdout",
     "output_type": "stream",
     "text": [
      "{'position': 0, 'title': 'Web3 Jobs - Blockchain, Solidity and Crypto Jobs', 'snippet': \"Web3 Jobs - Blockchain, Solidity and Crypto Jobs's posts ; Web3 Blockchain Interoperability Analyst - CODE-VOLUME-PROOF $84k - $194k in Los Angeles at Siddha...\", 'highlighs': ['Web3 Jobs'], 'link': 'https://twitter.com/web3career', 'displayed_link': 'https://twitter.com › ...'}\n"
     ]
    }
   ],
   "source": [
    "\n",
    "# found that organic_results is a list\n",
    "# now lets get some elements of the list\n",
    "print(data[\"organic_results\"][0])\n"
   ]
  },
  {
   "cell_type": "code",
   "execution_count": 43,
   "metadata": {},
   "outputs": [
    {
     "name": "stdout",
     "output_type": "stream",
     "text": [
      "dict_keys(['position', 'title', 'snippet', 'highlighs', 'link', 'displayed_link'])\n"
     ]
    }
   ],
   "source": [
    "# seems each element in the list is a dictionary\n",
    "# Now let's use keys of the dictionaries to access info\n",
    "print(data[\"organic_results\"][0].keys())\n"
   ]
  },
  {
   "cell_type": "code",
   "execution_count": 44,
   "metadata": {},
   "outputs": [
    {
     "name": "stdout",
     "output_type": "stream",
     "text": [
      "Web3 Jobs - Blockchain, Solidity and Crypto Jobs\n"
     ]
    }
   ],
   "source": [
    "# Now we get title for our first tweet\n",
    "print(data[\"organic_results\"][0][\"title\"])\n"
   ]
  },
  {
   "cell_type": "code",
   "execution_count": 45,
   "metadata": {},
   "outputs": [
    {
     "name": "stdout",
     "output_type": "stream",
     "text": [
      "Web3 Jobs - Blockchain, Solidity and Crypto Jobs's posts ; Web3 Blockchain Interoperability Analyst - CODE-VOLUME-PROOF $84k - $194k in Los Angeles at Siddha...\n"
     ]
    }
   ],
   "source": [
    "# Now we get snippet for our first tweet\n",
    "print(data[\"organic_results\"][0][\"snippet\"])\n"
   ]
  },
  {
   "cell_type": "code",
   "execution_count": 47,
   "metadata": {},
   "outputs": [],
   "source": [
    "# Now let's iterate through the data and put it into a well organized DataFrame\n",
    "all_tweets= data[\"organic_results\"]\n",
    "for tweet in all_tweets:\n",
    "    twitter_data.append(tweet)\n",
    "    \n"
   ]
  },
  {
   "cell_type": "code",
   "execution_count": 48,
   "metadata": {},
   "outputs": [
    {
     "name": "stdout",
     "output_type": "stream",
     "text": [
      "file exported\n"
     ]
    }
   ],
   "source": [
    "dataFrame= pd.DataFrame(twitter_data)\n",
    "dataFrame.to_json(\"tweets.json\", orient=\"index\")\n",
    "\n",
    "print(\"file exported\")\n"
   ]
  },
  {
   "cell_type": "code",
   "execution_count": 49,
   "metadata": {},
   "outputs": [
    {
     "name": "stdout",
     "output_type": "stream",
     "text": [
      "   position                                              title  \\\n",
      "0         0   Web3 Jobs - Blockchain, Solidity and Crypto Jobs   \n",
      "1         1                   Web3 Jobs 💼 (@TopWeb3Jobs) / ...   \n",
      "2         2                        Web3 Jobs (@myweb3jobs) / X   \n",
      "3         3         Stack Talent - Web3 Jobs (@StackTalent ...   \n",
      "4         4  Web3 Work — Web3 jobs ⚡️ NFT jobs ⚡️ DeFi jobs...   \n",
      "5         5  Blockchain, Crypto & Web3 jobs (@Web3jobsradar...   \n",
      "6         6  Highlights by Crypto Jobs List — DeFi NFT Web3...   \n",
      "7         7              Crypto Jobs List — DeFi NFT Web3 jobs   \n",
      "8         8   Web3 Jobs - Blockchain, Solidity and Crypto Jobs   \n",
      "9         9                        Web3 Jobs (@WEB3_JOBot) / X   \n",
      "\n",
      "                                             snippet  \\\n",
      "0  Web3 Jobs - Blockchain, Solidity and Crypto Jo...   \n",
      "1  Web3 Jobs. @TopWeb3Jobs. The #1 Web3 Job Board...   \n",
      "2  Web3 Jobs's posts ... Senior Backend Engineer ...   \n",
      "3  The Web3 HR solution that's revolutionizing th...   \n",
      "4  Web3 Work — Web3 jobs ⚡️ NFT jobs ⚡️ DeFi jobs...   \n",
      "5  Web3 Career - Blockchain, Crypto & Web3 jobs's...   \n",
      "6  Crypto Jobs List — DeFi NFT Web3 jobs's Highli...   \n",
      "7  Crypto Jobs List — DeFi NFT Web3 jobs's posts ...   \n",
      "8  Web3 Jobs (San Francisco) Developer Relations ...   \n",
      "9  Web3 Jobs's posts. Pinned ... Web3 jobs. Subsc...   \n",
      "\n",
      "                  highlighs  \\\n",
      "0               [Web3 Jobs]   \n",
      "1    [Web3 Jobs, web3 jobs]   \n",
      "2             [Web3 Jobs's]   \n",
      "3               [Web3 jobs]   \n",
      "4               [Web3 jobs]   \n",
      "5             [Web3 jobs's]   \n",
      "6             [Web3 jobs's]   \n",
      "7             [Web3 jobs's]   \n",
      "8               [Web3 Jobs]   \n",
      "9  [Web3 Jobs's, Web3 jobs]   \n",
      "\n",
      "                                                link  \\\n",
      "0                     https://twitter.com/web3career   \n",
      "1                    https://twitter.com/topweb3jobs   \n",
      "2                     https://twitter.com/myweb3jobs   \n",
      "3                    https://twitter.com/stacktalent   \n",
      "4                      https://twitter.com/web3_work   \n",
      "5                  https://twitter.com/web3jobsradar   \n",
      "6      https://twitter.com/CryptoJobsList/highlights   \n",
      "7                 https://twitter.com/cryptojobslist   \n",
      "8  https://twitter.com/Web3Career/status/18006948...   \n",
      "9                     https://twitter.com/WEB3_JOBot   \n",
      "\n",
      "                                      displayed_link  \n",
      "0                          https://twitter.com › ...  \n",
      "1                  https://twitter.com › topweb3jobs  \n",
      "2                   https://twitter.com › myweb3jobs  \n",
      "3                  https://twitter.com › stacktalent  \n",
      "4                    https://twitter.com › web3_work  \n",
      "5                https://twitter.com › web3jobsradar  \n",
      "6  https://twitter.com › CryptoJobsList › highlights  \n",
      "7               https://twitter.com › cryptojobslist  \n",
      "8                       https://twitter.com › status  \n",
      "9                   https://twitter.com › WEB3_JOBot  \n"
     ]
    }
   ],
   "source": [
    "print (dataFrame)\n"
   ]
  },
  {
   "cell_type": "code",
   "execution_count": 54,
   "metadata": {},
   "outputs": [
    {
     "data": {
      "text/plain": [
       "'dataFrame2= pd.DataFrame(twitter_data)\\ndataFrame2.to_csv(\"tweets.csv\")\\n\\nprint(\"file exported\")'"
      ]
     },
     "execution_count": 54,
     "metadata": {},
     "output_type": "execute_result"
    }
   ],
   "source": [
    "\"\"\"dataFrame2= pd.DataFrame(twitter_data)\n",
    "dataFrame2.to_csv(\"tweets.csv\")\n",
    "\n",
    "print(\"file exported\")\"\"\"\n"
   ]
  }
 ],
 "metadata": {
  "kernelspec": {
   "display_name": "Python 3",
   "language": "python",
   "name": "python3"
  },
  "language_info": {
   "codemirror_mode": {
    "name": "ipython",
    "version": 3
   },
   "file_extension": ".py",
   "mimetype": "text/x-python",
   "name": "python",
   "nbconvert_exporter": "python",
   "pygments_lexer": "ipython3",
   "version": "3.12.4"
  }
 },
 "nbformat": 4,
 "nbformat_minor": 2
}
